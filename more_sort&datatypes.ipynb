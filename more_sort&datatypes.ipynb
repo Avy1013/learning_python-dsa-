{
 "cells": [
  {
   "cell_type": "markdown",
   "metadata": {},
   "source": [
    "#### Merge sort\n"
   ]
  },
  {
   "cell_type": "code",
   "execution_count": 102,
   "metadata": {},
   "outputs": [
    {
     "name": "stdout",
     "output_type": "stream",
     "text": [
      "[[1, 23, 45, 5, 5], [3, 4, 6, 78, 7, 89]]\n",
      "[1, 23, 45, 5, 5, 3, 4, 6, 78, 7, 89]\n",
      "[1, 23, 45, 5, 5]\n"
     ]
    }
   ],
   "source": [
    "## difference btw append and extend\n",
    "list = [1,23,45,5,5]\n",
    "list2 = [3,4,6,78,7,89]\n",
    "list3=[]\n",
    "list4=[]\n",
    "list3.append(list)\n",
    "list3.append(list2)\n",
    "list4.extend(list)\n",
    "list4.extend(list2)\n",
    "print(list3)\n",
    "print(list4)\n",
    "print(list)"
   ]
  },
  {
   "cell_type": "code",
   "execution_count": 103,
   "metadata": {},
   "outputs": [],
   "source": [
    "def merge(A, B):\n",
    "    (c, m, n) = ([], len(A), len(B))\n",
    "    (i, j) = (0, 0) \n",
    "    while i + j < m + n:\n",
    "        if i == m:\n",
    "            c.append(B[j])\n",
    "            j += 1\n",
    "        elif j == n:\n",
    "            c.append(A[i])\n",
    "            i += 1\n",
    "        elif A[i] <= B[j]:\n",
    "            c.append(A[i])\n",
    "            i += 1\n",
    "        else:  # A[i] > B[j]\n",
    "            c.append(B[j])\n",
    "            j += 1\n",
    "    return c\n"
   ]
  },
  {
   "cell_type": "code",
   "execution_count": 104,
   "metadata": {},
   "outputs": [
    {
     "name": "stdout",
     "output_type": "stream",
     "text": [
      "[1, 3, 4, 6, 23, 45, 5, 5, 78, 7, 89]\n"
     ]
    }
   ],
   "source": [
    "print(merge(list2,list))"
   ]
  },
  {
   "cell_type": "code",
   "execution_count": 105,
   "metadata": {},
   "outputs": [
    {
     "name": "stdout",
     "output_type": "stream",
     "text": [
      "[1, 1, 2, 3, 3, 4, 23, 45, 212, 312, 643, 4423]\n",
      "[1, 2, 3, 4, 212, 4423, 312, 1, 3, 45, 643, 23]\n"
     ]
    }
   ],
   "source": [
    "def mergesort(arr):\n",
    "    if len(arr) > 1:\n",
    "        left_arr = arr[:len(arr)//2]    ## dividing \n",
    "        right_arr = arr[len(arr)//2:]\n",
    "\n",
    "        # Recursion\n",
    "        mergesort(left_arr)\n",
    "        mergesort(right_arr)\n",
    "\n",
    "        # Merge\n",
    "        i = j = k = 0\n",
    "    \n",
    "        while i < len(left_arr) and j < len(right_arr):\n",
    "            if left_arr[i] < right_arr[j]:\n",
    "                arr[k] = left_arr[i]\n",
    "                i += 1\n",
    "            else:\n",
    "                arr[k] = right_arr[j]\n",
    "                j += 1 \n",
    "            k += 1\n",
    "        \n",
    "        while i < len(left_arr):\n",
    "            arr[k] = left_arr[i]\n",
    "            i += 1\n",
    "            k += 1\n",
    "        \n",
    "        while j < len(right_arr):\n",
    "            arr[k] = right_arr[j]\n",
    "            j += 1\n",
    "            k += 1\n",
    "\n",
    "        \n",
    "\n",
    "jkl = [1,2,3,4,212,4423,312,1,3,45,643,23]\n",
    "hjk = jkl + []  ## because list are mutable this happens\n",
    "mergesort(jkl)\n",
    "print(jkl)\n",
    "print(hjk)\n",
    "\n"
   ]
  },
  {
   "cell_type": "code",
   "execution_count": 106,
   "metadata": {},
   "outputs": [
    {
     "name": "stdout",
     "output_type": "stream",
     "text": [
      "[1, 2, 3, 4, 3, 1, 23, 4423, 212, 45, 643, 312]\n"
     ]
    }
   ],
   "source": [
    "def quicksort(arr,left,right):\n",
    "    if left < right:\n",
    "        partition_postion = partion(arr ,left ,right)\n",
    "        quicksort(arr,left,partition_postion-1)\n",
    "\n",
    "def partion(arr,left,right):\n",
    "    i = left\n",
    "    j = right - 1\n",
    "    pivot = arr[right]\n",
    "    while i < j:\n",
    "        while i < right and arr[i] < pivot:\n",
    "            i += 1\n",
    "        \n",
    "        while j > left and arr[j] >= pivot:\n",
    "            j-=1\n",
    "        if i < j:\n",
    "         arr[i] , arr[j] = arr[j], arr[i]   \n",
    "    if arr[i] > pivot:\n",
    "        arr[i], arr[right] = arr[right], arr[i]\n",
    "    return(i)   \n",
    "\n",
    "quicksort(hjk,0,len(hjk)-1)         \n",
    "print(hjk) \n",
    "\n",
    "\n"
   ]
  },
  {
   "cell_type": "code",
   "execution_count": null,
   "metadata": {},
   "outputs": [],
   "source": [
    "\n"
   ]
  },
  {
   "cell_type": "code",
   "execution_count": 107,
   "metadata": {},
   "outputs": [],
   "source": [
    "point =(3.4,5.6,9.9)\n",
    "## showing tuples\n",
    "## tuple is immutable \n",
    "# point[0]=3.0  ## wrong\n",
    "## read only\n"
   ]
  },
  {
   "cell_type": "code",
   "execution_count": 108,
   "metadata": {},
   "outputs": [
    {
     "name": "stdout",
     "output_type": "stream",
     "text": [
      "{'test1': {'Dhawna': 84, 'kholi': 89}, 'test2': {'Dhawna': 84, 'kholi': 89}}\n",
      "test1\n",
      "{'Dhawna': 84, 'kholi': 89}\n",
      "test2\n",
      "{'Dhawna': 84, 'kholi': 89}\n"
     ]
    }
   ],
   "source": [
    "dictionaries = {} ## empty dict\n",
    "nm = {\"Dhawna\":84,\"kholi\":89}\n",
    "nm2 = {\"test1\":{\"Dhawna\":84,\"kholi\":89},\"test2\":{\"Dhawna\":84,\"kholi\":89}}\n",
    "print(nm2)\n",
    "for i in sorted(nm2.keys()):\n",
    "    print(i)\n",
    "    print(nm2[i])\n",
    "\n",
    "\n",
    "\n"
   ]
  },
  {
   "cell_type": "code",
   "execution_count": 109,
   "metadata": {},
   "outputs": [
    {
     "name": "stdout",
     "output_type": "stream",
     "text": [
      "[1, 23, 4, 5, 6, 9]\n"
     ]
    }
   ],
   "source": [
    "int(\"A5\",16)\n",
    "\n",
    "## can provide defaults values to function u already know\n",
    "## just make sure its a static value\n",
    "## u can also assign a fucntion i \n",
    "## u can actually learn more about it\n",
    "## u can also pass functions as arguments\n",
    "def applylist(f,l):\n",
    "    for x in range(len(l)):\n",
    "        x = f(l[x])\n",
    "    print(l)\n",
    "def f(x):\n",
    "    x += 1\n",
    "    return(x)\n",
    "list34 = [1,23,4,5,6,9]\n",
    "applylist(f,list34)\n",
    "## here f is the function"
   ]
  },
  {
   "cell_type": "code",
   "execution_count": 110,
   "metadata": {},
   "outputs": [
    {
     "data": {
      "text/plain": [
       "[1, 23, 4, 5, 6]"
      ]
     },
     "execution_count": 110,
     "metadata": {},
     "output_type": "execute_result"
    }
   ],
   "source": [
    "## map() learn about this more\n",
    "## lecture 7 week 4\n",
    "list34[:-1]"
   ]
  },
  {
   "cell_type": "code",
   "execution_count": 111,
   "metadata": {},
   "outputs": [],
   "source": [
    "\n",
    "wickets = {\"Tests\":{\"Ishant\":[3,5,2,3],\"Shami\":[4,4,1,0],\"Bumrah\":[2,1,7,4]},\"ODI\":{\"Ishant\":[2,0],\"Shami\":[1,2]}} \n",
    "wickets[\"ODI\"][\"Bumrah\"] = [4,4]\n",
    "\n",
    "\n",
    "##wickets[\"ODI\"][\"Bumrah\"] = wickets[\"ODI\"][\"Bumrah\"] + [4,4]\n",
    "\n"
   ]
  },
  {
   "cell_type": "code",
   "execution_count": 112,
   "metadata": {},
   "outputs": [],
   "source": [
    "hundreds = {} \n",
    "hundreds[(\"Tendulkar\",\"international\")] = 100\n",
    "\n",
    "\n",
    "# hundreds[[\"Tendulkar\",\"international\"]] = 100\n",
    "\n"
   ]
  },
  {
   "cell_type": "code",
   "execution_count": 113,
   "metadata": {},
   "outputs": [
    {
     "name": "stdout",
     "output_type": "stream",
     "text": [
      "[(5, 4), (4, 2), (3, 3), (2, 4)]\n"
     ]
    }
   ],
   "source": [
    "pairs = [(x, y) for x in range(5, 1, -1) for y in range(4, 1, -1) if (x + y) % 3 == 0]\n",
    "print(pairs)"
   ]
  },
  {
   "cell_type": "code",
   "execution_count": 114,
   "metadata": {},
   "outputs": [
    {
     "data": {
      "text/plain": [
       "4"
      ]
     },
     "execution_count": 114,
     "metadata": {},
     "output_type": "execute_result"
    }
   ],
   "source": [
    "def g(m,n):\n",
    "    res = 0\n",
    "    while m >= n:\n",
    "        (res,m) = (res+1,m/n)\n",
    "    return(res)\n",
    "g(375,4)"
   ]
  },
  {
   "cell_type": "code",
   "execution_count": null,
   "metadata": {},
   "outputs": [],
   "source": [
    "userdata = int(input(\"enter a number\"))"
   ]
  },
  {
   "cell_type": "code",
   "execution_count": 120,
   "metadata": {},
   "outputs": [
    {
     "name": "stdout",
     "output_type": "stream",
     "text": [
      "jkl: \n",
      " sep 4this becomes the default now"
     ]
    }
   ],
   "source": [
    "\n",
    "print(\"jkl: \\n\",userdata,end=\"this becomes the default now\",sep=\" sep \")\n"
   ]
  },
  {
   "cell_type": "markdown",
   "metadata": {},
   "source": [
    "There are thing called exceptions study them"
   ]
  },
  {
   "cell_type": "code",
   "execution_count": 123,
   "metadata": {},
   "outputs": [],
   "source": [
    "fh = (\"start.ipynb\",\"r\")\n",
    "# r for read\n",
    "# w for write a new file\n",
    "# a for adding into the existing file"
   ]
  },
  {
   "cell_type": "markdown",
   "metadata": {},
   "source": [
    "##### string function rstrip or lstrip\n",
    "##### s.find(pattern)\n",
    "##### s.replace(dog,cat,1)m\n",
    "##### see string one again\n"
   ]
  },
  {
   "cell_type": "markdown",
   "metadata": {},
   "source": [
    "del() ## remove the assingment element for list or dictionary\n",
    "whole fomr week 6"
   ]
  }
 ],
 "metadata": {
  "kernelspec": {
   "display_name": "Python 3",
   "language": "python",
   "name": "python3"
  },
  "language_info": {
   "codemirror_mode": {
    "name": "ipython",
    "version": 3
   },
   "file_extension": ".py",
   "mimetype": "text/x-python",
   "name": "python",
   "nbconvert_exporter": "python",
   "pygments_lexer": "ipython3",
   "version": "3.11.5"
  }
 },
 "nbformat": 4,
 "nbformat_minor": 2
}
