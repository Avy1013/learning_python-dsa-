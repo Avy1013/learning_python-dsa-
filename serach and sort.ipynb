{
 "cells": [
  {
   "cell_type": "markdown",
   "id": "b0b5c058",
   "metadata": {},
   "source": [
    "#### more lists"
   ]
  },
  {
   "cell_type": "code",
   "execution_count": 16,
   "id": "d1de2455",
   "metadata": {},
   "outputs": [
    {
     "name": "stdout",
     "output_type": "stream",
     "text": [
      "[1, 3, 7, 6]\n",
      "[1, 3, 5, 6]\n",
      "[1, 3, 7, 6]\n"
     ]
    }
   ],
   "source": [
    "list1 = [1,3,5,6]\n",
    "list2 = list1\n",
    "list1 = list1[0:2] + [7] + list1[3:]\n",
    "#it  produces a new list when concatenated\n",
    "print(list1)\n",
    "print(list2)\n",
    "\n",
    "print(list1)\n"
   ]
  },
  {
   "cell_type": "markdown",
   "id": "e67c8580",
   "metadata": {},
   "source": [
    "Below append does not make a new list"
   ]
  },
  {
   "cell_type": "code",
   "execution_count": 17,
   "id": "73c79a47",
   "metadata": {},
   "outputs": [
    {
     "name": "stdout",
     "output_type": "stream",
     "text": [
      "[1, 3, 5, 6, 12]\n",
      "[1, 3, 5, 6, 12]\n"
     ]
    }
   ],
   "source": [
    "list1 = [1,3,5,6]\n",
    "list2 = list1\n",
    "list1.append(12) ## adds a value to list\n",
    "print(list1)\n",
    "print(list2)\n"
   ]
  },
  {
   "cell_type": "markdown",
   "id": "84541006",
   "metadata": {},
   "source": [
    "Extend method"
   ]
  },
  {
   "cell_type": "code",
   "execution_count": 18,
   "id": "8ff717fc",
   "metadata": {},
   "outputs": [
    {
     "name": "stdout",
     "output_type": "stream",
     "text": [
      "[1, 3, 5, 6, 12, 1, 3, 5, 6, 12]\n"
     ]
    }
   ],
   "source": [
    "list1.extend(list2) ##takes only list as argument\n",
    "print(list1)"
   ]
  },
  {
   "cell_type": "code",
   "execution_count": 19,
   "id": "488f5112",
   "metadata": {},
   "outputs": [],
   "source": [
    "list1.remove(1) ##remove one occurence of list"
   ]
  },
  {
   "cell_type": "code",
   "execution_count": 20,
   "id": "824fea22",
   "metadata": {},
   "outputs": [
    {
     "name": "stdout",
     "output_type": "stream",
     "text": [
      "[3, 5, 6, 12, 1, 3, 5, 6, 12]\n"
     ]
    }
   ],
   "source": [
    "print(list1)"
   ]
  },
  {
   "cell_type": "markdown",
   "id": "4c3f01d2",
   "metadata": {},
   "source": [
    "slicing can expand / shrink the list so make sure to use it wisely\n"
   ]
  },
  {
   "cell_type": "code",
   "execution_count": 26,
   "id": "330ad3bf",
   "metadata": {},
   "outputs": [
    {
     "name": "stdout",
     "output_type": "stream",
     "text": [
      "[6, 3, 4, 5]\n"
     ]
    }
   ],
   "source": [
    "jkl=[1,2,3,4,5]\n",
    "jkl[0:2] = [6] #its shrinks in this case\n",
    "print(jkl)"
   ]
  },
  {
   "cell_type": "code",
   "execution_count": 27,
   "id": "75c9de74",
   "metadata": {},
   "outputs": [
    {
     "data": {
      "text/plain": [
       "True"
      ]
     },
     "execution_count": 27,
     "metadata": {},
     "output_type": "execute_result"
    }
   ],
   "source": [
    "5 in jkl ## in checks if the provided is in it or not"
   ]
  },
  {
   "cell_type": "code",
   "execution_count": 33,
   "id": "5103f440",
   "metadata": {},
   "outputs": [
    {
     "name": "stdout",
     "output_type": "stream",
     "text": [
      "[6, 4, 5]\n"
     ]
    }
   ],
   "source": [
    "while 3 in jkl:\n",
    "    jkl.remove(3)\n",
    "print(jkl)\n",
    "## it remove all the occurence"
   ]
  },
  {
   "cell_type": "markdown",
   "id": "f16dfbdb",
   "metadata": {},
   "source": [
    "#### some more function\n"
   ]
  },
  {
   "cell_type": "code",
   "execution_count": 35,
   "id": "12b2a73b",
   "metadata": {},
   "outputs": [
    {
     "data": {
      "text/plain": [
       "[5, 4, 6]"
      ]
     },
     "execution_count": 35,
     "metadata": {},
     "output_type": "execute_result"
    }
   ],
   "source": [
    "jkl.reverse()\n",
    "jkl"
   ]
  },
  {
   "cell_type": "code",
   "execution_count": 37,
   "id": "24cee0d0",
   "metadata": {},
   "outputs": [
    {
     "data": {
      "text/plain": [
       "[4, 5, 6]"
      ]
     },
     "execution_count": 37,
     "metadata": {},
     "output_type": "execute_result"
    }
   ],
   "source": [
    "jkl.sort()\n",
    "jkl"
   ]
  },
  {
   "cell_type": "code",
   "execution_count": 39,
   "id": "e28d9c80",
   "metadata": {},
   "outputs": [
    {
     "data": {
      "text/plain": [
       "1"
      ]
     },
     "execution_count": 39,
     "metadata": {},
     "output_type": "execute_result"
    }
   ],
   "source": [
    "jkl.index(5) ## give the left most index"
   ]
  },
  {
   "cell_type": "markdown",
   "id": "1b06167f",
   "metadata": {},
   "source": [
    "documentation for the lists check it out just in case"
   ]
  },
  {
   "cell_type": "markdown",
   "id": "4db791cc",
   "metadata": {},
   "source": [
    "https://docs.python.org/3/tutorial/datastructures.html"
   ]
  },
  {
   "cell_type": "markdown",
   "id": "1af56c45",
   "metadata": {},
   "source": [
    "#### ARRAYS VS LIST"
   ]
  },
  {
   "cell_type": "raw",
   "id": "93fceb6f",
   "metadata": {},
   "source": [
    "Œ ARRAYS ARE A SINGLE BLOCK OF MEMORY \n",
    "ACCESSING SEQ[I] IS I CONSTANT TIME\n",
    "CONTRACTION AND EXPANSION IS EXPENSIVE"
   ]
  },
  {
   "cell_type": "raw",
   "id": "8aa2dc24",
   "metadata": {},
   "source": [
    "LIST IS SCATTERED IN MEMORY \n",
    "ACCESSING IN SEQ[I] TAKES PROPOTIONAL TIME/LINEAR TIME\n",
    "INSERTING AND DELETING IS EASY\n",
    "\n",
    "AS THERE NEEDS TO PLUMBING DONE JUST REMOVE OR ADD THE LINK TO THE BLOCK"
   ]
  },
  {
   "cell_type": "code",
   "execution_count": 47,
   "id": "ba7205e0",
   "metadata": {},
   "outputs": [],
   "source": [
    "def search(seq,v):\n",
    "\n",
    "    for x in seq:   ## this part is different from the c++\n",
    "        if x == v:\n",
    "            return(True)\n",
    "    return(False)"
   ]
  },
  {
   "cell_type": "code",
   "execution_count": 48,
   "id": "e65e2297",
   "metadata": {},
   "outputs": [
    {
     "data": {
      "text/plain": [
       "True"
      ]
     },
     "execution_count": 48,
     "metadata": {},
     "output_type": "execute_result"
    }
   ],
   "source": [
    "search(jkl,4) ## sequence is iterated in python"
   ]
  },
  {
   "cell_type": "code",
   "execution_count": 49,
   "id": "c215af05",
   "metadata": {},
   "outputs": [
    {
     "name": "stdout",
     "output_type": "stream",
     "text": [
      "Element 12 is present at index 5.\n"
     ]
    }
   ],
   "source": [
    "def binary_search(arr, target):\n",
    "    left = 0\n",
    "    right = len(arr) - 1\n",
    "    \n",
    "    while left <= right:\n",
    "        mid = (left + right) // 2\n",
    "        \n",
    "        # Check if the target is equal to the element at the middle index\n",
    "        if arr[mid] == target:\n",
    "            return mid\n",
    "        # If the target is less than the middle element, search in the left half\n",
    "        elif arr[mid] > target:\n",
    "            right = mid - 1\n",
    "        # If the target is greater than the middle element, search in the right half\n",
    "        else:\n",
    "            left = mid + 1\n",
    "    \n",
    "    # If the target is not found in the array\n",
    "    return -1\n",
    "\n",
    "# Example usage:\n",
    "arr = [2, 4, 6, 8, 10, 12, 14, 16, 18, 20]\n",
    "target = 12\n",
    "result = binary_search(arr, target)\n",
    "if result != -1:\n",
    "    print(f\"Element {target} is present at index {result}.\")\n",
    "else:\n",
    "    print(f\"Element {target} is not present in the array.\")\n"
   ]
  },
  {
   "cell_type": "markdown",
   "id": "c4178c21-333b-4730-a631-701fdee5fc8f",
   "metadata": {},
   "source": [
    "#### Selection sort"
   ]
  },
  {
   "cell_type": "code",
   "execution_count": 7,
   "id": "9bc0a391-f4a7-4a61-b073-f14c458f07fb",
   "metadata": {},
   "outputs": [],
   "source": [
    "def SelectionSort(l):\n",
    "    # Scan slices 1[0:len(1)f, L[1:len(l)], -\n",
    "    for start in range(len(l)):\n",
    "        # Find minimum value in slice ...\n",
    "        minpos = start\n",
    "        for i in range(start, len(l)):\n",
    "            if l[i] < l[minpos]:\n",
    "                minpos = i\n",
    "        #... and move it to start of slice\n",
    "        (l[start],l[minpos]) = (l[minpos],l[start])"
   ]
  },
  {
   "cell_type": "code",
   "execution_count": 9,
   "id": "8be3fe1d-9864-4bd2-a3cc-dd3f6d5d0da8",
   "metadata": {},
   "outputs": [
    {
     "name": "stdout",
     "output_type": "stream",
     "text": [
      "[1, 2, 2, 3, 3, 4, 5, 5, 5, 6, 6, 6, 7, 7, 9, 23, 55, 56, 242, 351, 445]\n"
     ]
    }
   ],
   "source": [
    "l=[1,2,3,5,6,6,7,3,2,4,9,5,23,56,6,7,242,55,445,5,351]\n",
    "SelectionSort(l)\n",
    "print(l)"
   ]
  },
  {
   "cell_type": "markdown",
   "id": "abe44d7c",
   "metadata": {},
   "source": [
    "#### Insertion sort"
   ]
  },
  {
   "cell_type": "code",
   "execution_count": 2,
   "id": "d365b1d7",
   "metadata": {},
   "outputs": [],
   "source": [
    "def Insertionsort(seq):\n",
    "    for slice in range(len(seq)):\n",
    "        pos = slice\n",
    "        while pos > 0 and seq[pos] < seq[pos-1]:\n",
    "            (seq[pos],seq[pos-1]) = (seq[pos-1],seq[pos])\n",
    "            pos = pos-1"
   ]
  },
  {
   "cell_type": "code",
   "execution_count": 28,
   "id": "885c9029",
   "metadata": {},
   "outputs": [],
   "source": [
    "seq = list(range(1050,1000,-3))\n",
    "\n"
   ]
  },
  {
   "cell_type": "code",
   "execution_count": 40,
   "id": "99682813",
   "metadata": {},
   "outputs": [
    {
     "data": {
      "text/plain": [
       "[1002,\n",
       " 1005,\n",
       " 1008,\n",
       " 1011,\n",
       " 1014,\n",
       " 1017,\n",
       " 1020,\n",
       " 1023,\n",
       " 1026,\n",
       " 1029,\n",
       " 1032,\n",
       " 1035,\n",
       " 1038,\n",
       " 1041,\n",
       " 1044,\n",
       " 1047,\n",
       " 1050]"
      ]
     },
     "execution_count": 40,
     "metadata": {},
     "output_type": "execute_result"
    }
   ],
   "source": [
    "Insertionsort(seq)\n",
    "seq\n"
   ]
  },
  {
   "cell_type": "markdown",
   "id": "03f8ed39",
   "metadata": {},
   "source": [
    "#### Recursion"
   ]
  },
  {
   "cell_type": "code",
   "execution_count": 30,
   "id": "94eea1c1",
   "metadata": {},
   "outputs": [],
   "source": [
    "def myrecursion(number):\n",
    "    if number == 1:\n",
    "        return(1)\n",
    "    else:\n",
    "        return(number * myrecursion(number-1))"
   ]
  },
  {
   "cell_type": "code",
   "execution_count": 38,
   "id": "ffd69a05",
   "metadata": {},
   "outputs": [
    {
     "data": {
      "text/plain": [
       "3628800"
      ]
     },
     "execution_count": 38,
     "metadata": {},
     "output_type": "execute_result"
    }
   ],
   "source": [
    "myrecursion(10)"
   ]
  },
  {
   "cell_type": "markdown",
   "id": "074d5f11",
   "metadata": {},
   "source": [
    "#### Programs"
   ]
  },
  {
   "cell_type": "code",
   "execution_count": 3,
   "id": "7a26a727",
   "metadata": {},
   "outputs": [],
   "source": [
    "def remdup(listd):\n",
    "    listnew=[]\n",
    "    for i in listd:\n",
    "\n",
    "        if i not in listnew:\n",
    "            listnew.append(i)\n",
    "    return(listnew)   \n",
    "\n",
    "\n"
   ]
  },
  {
   "cell_type": "code",
   "execution_count": 4,
   "id": "5c7c513a",
   "metadata": {},
   "outputs": [
    {
     "name": "stdout",
     "output_type": "stream",
     "text": [
      "[]\n"
     ]
    }
   ],
   "source": [
    "listd=[]\n",
    "listnew=remdup(listd)\n",
    "print(listnew)"
   ]
  },
  {
   "cell_type": "markdown",
   "id": "0682f40b",
   "metadata": {},
   "source": [
    "\n",
    "make the same program using set when u learn set"
   ]
  },
  {
   "cell_type": "markdown",
   "id": "80581db2",
   "metadata": {},
   "source": [
    "Sumsquare"
   ]
  },
  {
   "cell_type": "code",
   "execution_count": 57,
   "id": "11e88c80",
   "metadata": {},
   "outputs": [
    {
     "name": "stdout",
     "output_type": "stream",
     "text": [
      "[20, 8]\n"
     ]
    }
   ],
   "source": [
    "def sumsquare(p):\n",
    "    listjkl = [0,0]\n",
    "\n",
    "    for i in p:\n",
    "        if i % 2 != 0:\n",
    "            listjkl[0] = listjkl[0] + (i * i)\n",
    "        else:\n",
    "            listjkl[1] = listjkl[1] + (i * i)\n",
    "    return(listjkl)\n",
    "\n",
    "p=[-1,-2,3,7]\n",
    "k=[0,1,-1,0,2,-2,3,-3]\n",
    "\n",
    "print(sumsquare(k))\n"
   ]
  },
  {
   "cell_type": "markdown",
   "id": "7a541fc2",
   "metadata": {},
   "source": [
    "Transpose"
   ]
  },
  {
   "cell_type": "code",
   "execution_count": 2,
   "id": "0d631009",
   "metadata": {},
   "outputs": [
    {
     "name": "stdout",
     "output_type": "stream",
     "text": [
      "[[1, 5], [2, 6], [3, 7], [4, 8]]\n"
     ]
    }
   ],
   "source": [
    "def transpose(k):\n",
    "    newlist=[]\n",
    "    lenght=len(k)\n",
    "    l = len(k[0])\n",
    "    \n",
    "\n",
    "    for i in range(l):\n",
    "        \n",
    "        liste=[]\n",
    "        for j in range(lenght):\n",
    "            \n",
    "            liste.append(k[j][i]) \n",
    "            \n",
    "        newlist.append(liste)      \n",
    "\n",
    "           \n",
    "    print(newlist)\n",
    "            \n",
    "k=[[1, 2, 3, 4], [5, 6, 7, 8]]\n",
    "m=[[1,2,3,4]]\n",
    "transpose(k)"
   ]
  },
  {
   "cell_type": "code",
   "execution_count": null,
   "id": "757a9c85",
   "metadata": {},
   "outputs": [],
   "source": []
  }
 ],
 "metadata": {
  "kernelspec": {
   "display_name": "Python 3 (ipykernel)",
   "language": "python",
   "name": "python3"
  },
  "language_info": {
   "codemirror_mode": {
    "name": "ipython",
    "version": 3
   },
   "file_extension": ".py",
   "mimetype": "text/x-python",
   "name": "python",
   "nbconvert_exporter": "python",
   "pygments_lexer": "ipython3",
   "version": "3.11.5"
  }
 },
 "nbformat": 4,
 "nbformat_minor": 5
}
