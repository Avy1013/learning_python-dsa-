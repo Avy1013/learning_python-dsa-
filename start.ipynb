{
 "cells": [
  {
   "cell_type": "code",
   "execution_count": 16,
   "id": "0496deb1",
   "metadata": {},
   "outputs": [],
   "source": [
    "i=4\n"
   ]
  },
  {
   "cell_type": "code",
   "execution_count": 17,
   "id": "d79cf2bf",
   "metadata": {},
   "outputs": [
    {
     "name": "stdout",
     "output_type": "stream",
     "text": [
      "4\n"
     ]
    }
   ],
   "source": [
    "print(i)"
   ]
  },
  {
   "cell_type": "code",
   "execution_count": 18,
   "id": "ef54cda6",
   "metadata": {},
   "outputs": [
    {
     "data": {
      "text/plain": [
       "int"
      ]
     },
     "execution_count": 18,
     "metadata": {},
     "output_type": "execute_result"
    }
   ],
   "source": [
    "type(i)\n"
   ]
  },
  {
   "cell_type": "raw",
   "id": "6360b4db",
   "metadata": {},
   "source": [
    "we can also just have assignment like this\n"
   ]
  },
  {
   "cell_type": "code",
   "execution_count": 33,
   "id": "38e421e4",
   "metadata": {},
   "outputs": [],
   "source": [
    "def odd(m):\n",
    "    if m%2 == 0:\n",
    "        print('falsegcfhjn')\n",
    "    \n",
    "    else:\n",
    "        print('true')\n",
    "\n",
    "def even(m):\n",
    "    if m%2 == 0:\n",
    "        return(True)\n",
    "    else:\n",
    "        return(False)\n",
    "        \n",
    "boole = even(i)      \n",
    "    \n",
    "    \n",
    "    \n",
    "    \n",
    "    \n",
    "    \n",
    "#     if m%2 == 0:\n",
    "        \n",
    "#         return(True)\n",
    "#     else:\n",
    "#         return(False)\n",
    "    \n",
    "# def odd(n):\n",
    "#     return( divides(n))"
   ]
  },
  {
   "cell_type": "code",
   "execution_count": 34,
   "id": "a7bb27a3",
   "metadata": {},
   "outputs": [
    {
     "name": "stdout",
     "output_type": "stream",
     "text": [
      "falsegcfhjn\n"
     ]
    },
    {
     "data": {
      "text/plain": [
       "True"
      ]
     },
     "execution_count": 34,
     "metadata": {},
     "output_type": "execute_result"
    }
   ],
   "source": [
    "odd(i)\n",
    "boole"
   ]
  },
  {
   "cell_type": "markdown",
   "id": "123bece2",
   "metadata": {},
   "source": [
    "There are not char in python only string\n"
   ]
  },
  {
   "cell_type": "code",
   "execution_count": 52,
   "id": "8131ad40",
   "metadata": {},
   "outputs": [
    {
     "name": "stdout",
     "output_type": "stream",
     "text": [
      "Vaibhav Gupta's\n",
      "15\n"
     ]
    }
   ],
   "source": [
    "Avy=\"Vaibhav\"\n",
    "\n",
    "surname=\" Gupta's\"\n",
    "print(Avy+ surname)\n",
    "lenth=Avy+ surname\n",
    "print(len(lenth))"
   ]
  },
  {
   "cell_type": "code",
   "execution_count": 41,
   "id": "a96531f9",
   "metadata": {},
   "outputs": [
    {
     "name": "stdout",
     "output_type": "stream",
     "text": [
      "hello\n"
     ]
    },
    {
     "data": {
      "text/plain": [
       "'hello'"
      ]
     },
     "execution_count": 41,
     "metadata": {},
     "output_type": "execute_result"
    }
   ],
   "source": [
    "s= \"hello\"\n",
    "print(s)\n",
    "s[:len(s)]"
   ]
  },
  {
   "cell_type": "markdown",
   "id": "a7dbbb48",
   "metadata": {},
   "source": [
    "u can not change the string(immutable)"
   ]
  },
  {
   "cell_type": "code",
   "execution_count": 64,
   "id": "732fbee2",
   "metadata": {},
   "outputs": [
    {
     "name": "stdout",
     "output_type": "stream",
     "text": [
      "help!\n"
     ]
    }
   ],
   "source": [
    "# hello to help\n",
    "s = s[0:3]+\"p!\"\n",
    "print(s)"
   ]
  },
  {
   "cell_type": "markdown",
   "id": "2603f076",
   "metadata": {},
   "source": [
    "## lists\n"
   ]
  },
  {
   "cell_type": "code",
   "execution_count": 67,
   "id": "40d1e691",
   "metadata": {},
   "outputs": [
    {
     "name": "stdout",
     "output_type": "stream",
     "text": [
      "3\n",
      "[1, 2, 3]\n"
     ]
    }
   ],
   "source": [
    "number =[1,2,3,4,5]\n",
    "\n",
    "#slicing is also done in the same way\n",
    "\n",
    "print(number[2]) # gives a value\n",
    "print(number[0:3]) # different as its gives list"
   ]
  },
  {
   "cell_type": "markdown",
   "id": "1b628ab3",
   "metadata": {},
   "source": [
    "There can be nested list too\n"
   ]
  },
  {
   "cell_type": "code",
   "execution_count": 77,
   "id": "e3621f47",
   "metadata": {},
   "outputs": [
    {
     "data": {
      "text/plain": [
       "[[1, 6, [9, 6]], [3, 4]]"
      ]
     },
     "execution_count": 77,
     "metadata": {},
     "output_type": "execute_result"
    }
   ],
   "source": [
    "#LISTS ARE MUTABLE\n",
    "JKL=[[1,2,[9,8]],[3,4]]\n",
    "JKL[0][1]=6\n",
    "JKL[0][2][1]=6\n",
    "JKL\n"
   ]
  },
  {
   "cell_type": "raw",
   "id": "619976a6",
   "metadata": {},
   "source": [
    "#MUTABLE VS IMMUTABLE\n",
    "IN LIST THERE ARE NO FRESH COPY FOR MUTABLE TYPES\n",
    "\n",
    "FOR IMMUTABLE TYPES THERE IS A FRESH COPY CREATED\n"
   ]
  },
  {
   "cell_type": "raw",
   "id": "e362773e",
   "metadata": {},
   "source": [
    "Assignment vs copying\n",
    "in the below example now there is a fresh copy stored in number2\n",
    "instead of pointing to same value "
   ]
  },
  {
   "cell_type": "code",
   "execution_count": 96,
   "id": "a3d9f44f",
   "metadata": {},
   "outputs": [
    {
     "name": "stdout",
     "output_type": "stream",
     "text": [
      "False --for \"is\"\n",
      "True --for \"==\"\n",
      "[1, 2, 3, 4, 8]\n",
      "[1, 2, 3, 4, 8]\n",
      "False\n",
      "True\n"
     ]
    }
   ],
   "source": [
    "number2=number[:]\n",
    "print(number2 is number,'--for \"is\"') # same content but its false\n",
    "print(number2==number,'--for \"==\"')\n",
    "number2[4]=8\n",
    "number3=number2\n",
    "print(number2)\n",
    "print(number3)\n",
    "print(number2 is number)\n",
    "print(number2 is number3)"
   ]
  },
  {
   "cell_type": "raw",
   "id": "05358ee9",
   "metadata": {},
   "source": [
    "Also \"==\" and \"is\" same in logically but \n",
    "\n",
    "list can be concatenated and a new list is created"
   ]
  },
  {
   "cell_type": "code",
   "execution_count": 107,
   "id": "3acc8bfd",
   "metadata": {},
   "outputs": [
    {
     "name": "stdout",
     "output_type": "stream",
     "text": [
      "True shows they point to same list\n",
      "[1, 2, 3, 8, 9, 0]\n",
      "[1, 2, 3, 8, 9, 0] False shows they point to different even after same content\n"
     ]
    }
   ],
   "source": [
    "one=[8,9,0]\n",
    "two=[1,2,3]\n",
    "three=two\n",
    "print(three is two,'shows they point to same list') \n",
    "two=two+one\n",
    "three=two+[] #empty list\n",
    "print(two)\n",
    "print(three,three is two,'shows they point to different even after same content')"
   ]
  },
  {
   "cell_type": "markdown",
   "id": "e03cfe9c",
   "metadata": {},
   "source": [
    "# For in python is lil different \n"
   ]
  },
  {
   "cell_type": "code",
   "execution_count": 136,
   "id": "cffba45b",
   "metadata": {},
   "outputs": [
    {
     "name": "stdout",
     "output_type": "stream",
     "text": [
      "1 times\n",
      "2 times\n",
      "3 times\n",
      "4 times\n",
      "\n",
      "1 times\n",
      "2 times\n",
      "3 times\n",
      "4 times\n",
      "5 times\n"
     ]
    }
   ],
   "source": [
    "\n",
    "\n",
    "for i in [1,2,3,4]:\n",
    "        print(i,'times')\n",
    "j=0     \n",
    "print()\n",
    "for i in range(1,10,2):\n",
    "    \n",
    "    print(i-j,'times')\n",
    "    j += 1\n"
   ]
  },
  {
   "cell_type": "code",
   "execution_count": 138,
   "id": "7ff38ad6",
   "metadata": {},
   "outputs": [
    {
     "data": {
      "text/plain": [
       "24"
      ]
     },
     "execution_count": 138,
     "metadata": {},
     "output_type": "execute_result"
    }
   ],
   "source": [
    "def mys(m):\n",
    "    if m == 1:\n",
    "        return(1)\n",
    "    else:\n",
    "        return(m*mys(m-1))\n",
    "mys(4)"
   ]
  },
  {
   "cell_type": "code",
   "execution_count": 2,
   "id": "cd8ead0c",
   "metadata": {},
   "outputs": [
    {
     "name": "stdout",
     "output_type": "stream",
     "text": [
      "\n",
      "a\n",
      "la\n",
      "ula\n",
      "tula\n",
      "ntula\n",
      "antula\n",
      "rantula\n",
      "arantula\n"
     ]
    },
    {
     "data": {
      "text/plain": [
       "'tarantula'"
      ]
     },
     "execution_count": 2,
     "metadata": {},
     "output_type": "execute_result"
    }
   ],
   "source": [
    "first = \"tarantula\"\n",
    "second = \"\"\n",
    "for i in range(len(first)-1,-1,-1):\n",
    "    print(second)\n",
    "    second = first[i] + second\n",
    "second"
   ]
  },
  {
   "cell_type": "markdown",
   "id": "80ed9762",
   "metadata": {},
   "source": [
    "## three square funciton"
   ]
  },
  {
   "cell_type": "code",
   "execution_count": 12,
   "id": "540ed89f",
   "metadata": {},
   "outputs": [
    {
     "name": "stdout",
     "output_type": "stream",
     "text": [
      "1\n",
      "1\n",
      "1\n",
      "1\n",
      "1\n",
      "1\n",
      "1\n",
      "1\n",
      "1\n"
     ]
    }
   ],
   "source": [
    "def repfree():\n",
    "    for i in range(1,10):\n",
    "        print(\":\")\n",
    "        \n",
    "        \n",
    "        \n",
    "repfree()\n",
    "        \n",
    "    "
   ]
  },
  {
   "cell_type": "code",
   "execution_count": 22,
   "id": "38060c61",
   "metadata": {
    "scrolled": false
   },
   "outputs": [],
   "source": [
    "def repfree(s):\n",
    "    for i in range(len):\n",
    "        for j in range(i+1,len(s)):\n",
    "            if s[i]==s[j]:\n",
    "                return(false)\n",
    "            \n",
    "    return(true)\n",
    "        \n",
    "\n",
    "\n"
   ]
  },
  {
   "cell_type": "code",
   "execution_count": 2,
   "id": "f155e3f4",
   "metadata": {
    "scrolled": true
   },
   "outputs": [
    {
     "name": "stdout",
     "output_type": "stream",
     "text": [
      "False\n"
     ]
    }
   ],
   "source": [
    "\n",
    "\n",
    "def ascending(l):\n",
    "    \n",
    "    lenght=len(l)\n",
    "    jk, kl= 0, 0\n",
    "    \n",
    " \n",
    "    \n",
    "    if lenght < 3:\n",
    "        return(False)\n",
    "    for i in range(lenght-1):\n",
    "        if l[i] < l[i+1]:\n",
    "            jk = jk+1\n",
    "            \n",
    "           \n",
    "     \n",
    "        if l[i] > l[i+1]:\n",
    "            kl = kl+1\n",
    "        \n",
    "            \n",
    "            \n",
    "    \n",
    "    if jk == lenght-1:\n",
    "          return(False)\n",
    "    elif kl == lenght-1:\n",
    "          return(False)\n",
    "    elif l[0] > l[1]:\n",
    "        for j in range(kl,lenght-1):\n",
    "            if l[j] < l[j+1]:\n",
    "                jk = jk+1\n",
    "                continue\n",
    "            else:\n",
    "                return(False)\n",
    "        return(True)\n",
    "    elif l[0] < l[1]:\n",
    "        for j in range(jk,lenght-1):\n",
    "            if l[j] < l[j+1]: #org: >\n",
    "#                 kl = kl+1\n",
    "#                 continue\n",
    "#             else:\n",
    "                return(False)\n",
    "        \n",
    "        return(True) \n",
    "    else :\n",
    "        return(False)\n",
    "        \n",
    "        \n",
    "        \n",
    "        \n",
    "     \n",
    "    \n",
    "    \n",
    "\n",
    "p=[6,4,3,2,1,2,3,4,5]\n",
    "l=[5,4,3,2,1]\n",
    "k=[1,2,3,4,5]\n",
    "\t\n",
    "hillvalley=[1,2,3,5,4,2,3,1]\n",
    "s=[5,3,2,1,2,3,5,4,3,2,1]\n",
    "\n",
    "\n",
    "\n",
    "\n",
    "print(ascending(hillvalley))\n",
    "\n",
    "\n",
    "            \n",
    "    "
   ]
  },
  {
   "cell_type": "code",
   "execution_count": null,
   "id": "b12d3251",
   "metadata": {},
   "outputs": [],
   "source": []
  }
 ],
 "metadata": {
  "kernelspec": {
   "display_name": "Python 3 (ipykernel)",
   "language": "python",
   "name": "python3"
  },
  "language_info": {
   "codemirror_mode": {
    "name": "ipython",
    "version": 3
   },
   "file_extension": ".py",
   "mimetype": "text/x-python",
   "name": "python",
   "nbconvert_exporter": "python",
   "pygments_lexer": "ipython3",
   "version": "3.9.18"
  }
 },
 "nbformat": 4,
 "nbformat_minor": 5
}
